{
 "cells": [
  {
   "cell_type": "markdown",
   "metadata": {},
   "source": []
  },
  {
   "cell_type": "markdown",
   "metadata": {},
   "source": [
    "CoNLL-2003 dataset task demonstrates the labeling of tokens for named entity recognition (NER), part-of-speech (POS) tagging, and chunking. Each component of the JSON object corresponds to a different layer of annotation for the sentence:\n",
    "\n",
    "1. **Tokens**: These are the individual words or punctuation marks from the text. In this case, the sentence \"EU rejects German call to boycott British lamb.\" is split into tokens:\n",
    "   - \"EU\"\n",
    "   - \"rejects\"\n",
    "   - \"German\"\n",
    "   - \"call\"\n",
    "   - \"to\"\n",
    "   - \"boycott\"\n",
    "   - \"British\"\n",
    "   - \"lamb\"\n",
    "   - \".\"\n",
    "\n",
    "2. **POS Tags**: This array contains the POS tags corresponding to each token. The tags are encoded as numbers, each representing a specific part of speech (like noun, verb, adjective). These numbers usually correspond to a tagging scheme such as the Penn Treebank POS tags:\n",
    "   - \"EU\" is tagged as 22, which represents a proper noun.\n",
    "   - \"rejects\" is tagged as 42, indicating a verb in present tense.\n",
    "   - And so forth.\n",
    "\n",
    "3. **Chunk Tags**: This array indicates phrase chunk boundaries and types (like NP for noun phrase, VP for verb phrase). Each number again corresponds to a specific type of phrase or boundary in a predefined scheme:\n",
    "   - \"EU\" is part of a noun phrase, hence 11.\n",
    "   - \"rejects\" begins a verb phrase, indicated by 21.\n",
    "   - The chunk tags help in parsing the sentence into linguistically meaningful phrases.\n",
    "\n",
    "4. **NER Tags**: These tags are used for named entity recognition. They identify whether each token is part of a named entity (like a person, location, organization) and the type of entity:\n",
    "   - \"EU\" is tagged as 3, denoting an organization.\n",
    "   - \"German\" and \"British\" are tagged as 7, indicating nationality or ethnicity.\n",
    "   - Other tokens are tagged as 0, meaning they are not recognized as part of any named entity."
   ]
  },
  {
   "cell_type": "markdown",
   "metadata": {},
   "source": [
    " Homework: \n",
    "Load a NER dataset (e.g. CoNLL-2003) using the script provided below.\n",
    "   - Create a custom nn.Module class that takes Glove word embeddings as input, passes them through a linear layer, and outputs NER tags\n",
    "   - Train the model using cross-entropy loss and evaluate its performance using entity-level F1 score\n",
    "   - Analyze the model's predictions and visualize the confusion matrix to identify common errors\n",
    "2. Build a multi-layer perceptron (MLP) for NER using Glove embeddings\n",
    "   - Extend the previous exercise by creating an nn.Module class that defines an MLP architecture on top of Glove embeddings\n",
    "   - Experiment with different hidden layer sizes and number of layers\n",
    "   - Evaluate the trained model using entity-level precision, recall, and F1 scores\n",
    "   - Compare the performance of the MLP model with the simple linear model from exercise \n",
    "   - 1\n",
    "3. Explore the effects of different activation functions and regularization techniques for NER\n",
    "   - Modify the MLP model from exercise 2 to allow configurable activation functions (e.g. ReLU, tanh, sigmoid)\n",
    "   - Train models with different activation functions.)\n",
    "   - Visualize the learned entity embeddings using dimensionality reduction techniques like PCA or t-SNE (edited) \n",
    "   - "
   ]
  },
  {
   "cell_type": "code",
   "execution_count": 1,
   "metadata": {},
   "outputs": [
    {
     "name": "stderr",
     "output_type": "stream",
     "text": [
      "/home/neuralizer/.local/lib/python3.10/site-packages/tqdm/auto.py:21: TqdmWarning: IProgress not found. Please update jupyter and ipywidgets. See https://ipywidgets.readthedocs.io/en/stable/user_install.html\n",
      "  from .autonotebook import tqdm as notebook_tqdm\n",
      "/home/neuralizer/miniconda3/envs/pcax/lib/python3.10/site-packages/transformers/utils/hub.py:124: FutureWarning: Using `TRANSFORMERS_CACHE` is deprecated and will be removed in v5 of Transformers. Use `HF_HOME` instead.\n",
      "  warnings.warn(\n",
      "Map: 100%|██████████| 14041/14041 [00:00<00:00, 18368.40 examples/s]\n",
      "Map: 100%|██████████| 3250/3250 [00:00<00:00, 21613.68 examples/s]\n",
      "Map: 100%|██████████| 3453/3453 [00:00<00:00, 23084.67 examples/s]\n"
     ]
    }
   ],
   "source": [
    "import torch\n",
    "import torch.nn as nn\n",
    "from transformers import AutoTokenizer\n",
    "from datasets import load_dataset\n",
    "from torch.utils.data import DataLoader\n",
    "from sklearn.metrics import classification_report, confusion_matrix\n",
    "import seaborn as sns\n",
    "import matplotlib.pyplot as pl\n",
    "\n",
    "# Load and preprocess CoNLL-2003 dataset\n",
    "conll2003 = load_dataset(\"conll2003\")\n",
    "tokenizer = AutoTokenizer.from_pretrained(\"bert-base-uncased\")\n",
    "\n",
    "from torch.nn.utils.rnn import pad_sequence\n",
    "\n",
    "def tokenize_and_align_labels(examples):\n",
    "    tokenized_inputs = tokenizer(examples[\"tokens\"], truncation=True, is_split_into_words=True)\n",
    "    labels = []\n",
    "    for i, label in enumerate(examples[\"ner_tags\"]):\n",
    "        word_ids = tokenized_inputs.word_ids(batch_index=i)\n",
    "        previous_word_idx = None\n",
    "        label_ids = []\n",
    "        for word_idx in word_ids:\n",
    "            if word_idx is None or word_idx == previous_word_idx:\n",
    "                label_ids.append(-100)\n",
    "            else:\n",
    "                label_ids.append(label[word_idx])\n",
    "            previous_word_idx = word_idx\n",
    "        labels.append(torch.tensor(label_ids))\n",
    "    tokenized_inputs[\"input_ids\"] = [torch.tensor(x) for x in tokenized_inputs[\"input_ids\"]]\n",
    "    tokenized_inputs[\"labels\"] = labels\n",
    "    return tokenized_inputs\n",
    "\n",
    "\n",
    "def collate_fn(batch):\n",
    "    input_ids = [torch.tensor(item[\"input_ids\"]) for item in batch]\n",
    "    labels = [torch.tensor(item[\"labels\"]) for item in batch]\n",
    "    input_ids = pad_sequence(input_ids, batch_first=True)\n",
    "    labels = pad_sequence(labels, batch_first=True, padding_value=-100)\n",
    "    return {\"input_ids\": input_ids, \"labels\": labels}\n",
    "\n",
    "\n",
    "\n",
    "tokenized_conll2003 = conll2003.map(tokenize_and_align_labels, batched=True, remove_columns=conll2003[\"train\"].column_names)\n",
    "train_dataloader = DataLoader(tokenized_conll2003[\"train\"], batch_size=32, shuffle=True, collate_fn=collate_fn)\n",
    "val_dataloader = DataLoader(tokenized_conll2003[\"validation\"], batch_size=32, collate_fn=collate_fn)\n",
    "test_dataloader = DataLoader(tokenized_conll2003[\"test\"], batch_size=32, collate_fn=collate_fn)\n"
   ]
  },
  {
   "cell_type": "code",
   "execution_count": 2,
   "metadata": {},
   "outputs": [
    {
     "name": "stdout",
     "output_type": "stream",
     "text": [
      "['O', 'B-PER', 'I-PER', 'B-ORG', 'I-ORG', 'B-LOC', 'I-LOC', 'B-MISC', 'I-MISC']\n"
     ]
    }
   ],
   "source": [
    "# print all labels\n",
    "print(conll2003[\"train\"].features[\"ner_tags\"].feature.names)"
   ]
  },
  {
   "cell_type": "code",
   "execution_count": null,
   "metadata": {},
   "outputs": [],
   "source": [
    "from torchtext.vocab import GloVe\n",
    "class ModelNER(nn.Module):\n",
    "    def __init__(self, vocab_size, embed_dim, num_tags):\n",
    "        super(ModelNER, self).__init__()\n",
    "        self.embedding = nn.Embedding.from_pretrained(GloVe(name='6B', dim=embed_dim))\n",
    "        # add here\n",
    "\n",
    "    def forward(self, x):\n",
    "        # add here\n",
    "        return x\n",
    "\n",
    "# Initialize model, loss function, and optimizer\n",
    "vocab_size = tokenizer.vocab_size\n",
    "num_tags = len(conll2003[\"train\"].features[\"ner_tags\"].feature.names)\n",
    "\n",
    "model = ModelNER(vocab_size, embed_dim, num_tags)\n",
    "criterion = nn.CrossEntropyLoss()\n",
    "optimizer = torch.optim.Adam(model.parameters())\n",
    "\n",
    "# Train the model\n",
    "num_epochs = 10\n",
    "for epoch in range(num_epochs):\n",
    "    train_loss = 0\n",
    "    for batch in train_dataloader:\n",
    "        input_ids = batch[\"input_ids\"]\n",
    "        labels = batch[\"labels\"]\n",
    "        optimizer.zero_grad()\n",
    "        outputs = model(input_ids)\n",
    "        loss = criterion(outputs.view(-1, num_tags), labels.view(-1))\n",
    "        loss.backward()\n",
    "        optimizer.step()\n",
    "        train_loss += loss.item()\n",
    "    print(f\"Epoch {epoch+1}, Train Loss: {train_loss / len(train_dataloader)}\")\n"
   ]
  },
  {
   "cell_type": "code",
   "execution_count": null,
   "metadata": {},
   "outputs": [],
   "source": []
  },
  {
   "cell_type": "code",
   "execution_count": null,
   "metadata": {},
   "outputs": [],
   "source": []
  },
  {
   "cell_type": "code",
   "execution_count": null,
   "metadata": {},
   "outputs": [],
   "source": []
  },
  {
   "cell_type": "code",
   "execution_count": null,
   "metadata": {},
   "outputs": [],
   "source": []
  }
 ],
 "metadata": {
  "kernelspec": {
   "display_name": "pcax",
   "language": "python",
   "name": "python3"
  },
  "language_info": {
   "codemirror_mode": {
    "name": "ipython",
    "version": 3
   },
   "file_extension": ".py",
   "mimetype": "text/x-python",
   "name": "python",
   "nbconvert_exporter": "python",
   "pygments_lexer": "ipython3",
   "version": "3.10.13"
  }
 },
 "nbformat": 4,
 "nbformat_minor": 2
}
